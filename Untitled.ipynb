{
 "cells": [
  {
   "cell_type": "code",
   "execution_count": 1,
   "metadata": {
    "collapsed": true
   },
   "outputs": [],
   "source": [
    "# to handle  data retrieval\n",
    "import urllib3\n",
    "from urllib3 import request\n",
    "# to handle certificate verification\n",
    "import certifi\n",
    "# to manage json data\n",
    "import json\n",
    "# for pandas dataframes\n",
    "import pandas as pd"
   ]
  },
  {
   "cell_type": "code",
   "execution_count": 2,
   "metadata": {
    "collapsed": true
   },
   "outputs": [],
   "source": [
    "http = urllib3.PoolManager(\n",
    "       cert_reqs='CERT_REQUIRED',\n",
    "       ca_certs=certifi.where())"
   ]
  },
  {
   "cell_type": "code",
   "execution_count": 9,
   "metadata": {
    "collapsed": true
   },
   "outputs": [],
   "source": [
    "from pandas.io.json import json_normalize\n"
   ]
  },
  {
   "cell_type": "code",
   "execution_count": 3,
   "metadata": {},
   "outputs": [
    {
     "data": {
      "text/plain": [
       "200"
      ]
     },
     "execution_count": 3,
     "metadata": {},
     "output_type": "execute_result"
    }
   ],
   "source": [
    "url = 'https://services3.arcgis.com/6QuzuucBh0MLJk7u/arcgis/rest/services/City_case_mapping_November_9/FeatureServer/1/query?f=json&where=OBJECTID%3E187&returnGeometry=false&spatialRel=esriSpatialRelIntersects&outFields=*&outSR=102100&resultOffset=0&resultRecordCount=4000&resultType=standard&cacheHint=true'\n",
    "r = http.request('GET', url)\n",
    "r.status"
   ]
  },
  {
   "cell_type": "code",
   "execution_count": 11,
   "metadata": {},
   "outputs": [
    {
     "data": {
      "text/plain": [
       "200"
      ]
     },
     "execution_count": 11,
     "metadata": {},
     "output_type": "execute_result"
    }
   ],
   "source": [
    "http = urllib3.PoolManager(\n",
    "       cert_reqs='CERT_REQUIRED',\n",
    "       ca_certs=certifi.where())\n",
    "url = 'https://services3.arcgis.com/6QuzuucBh0MLJk7u/arcgis/rest/services/City_case_mapping_November_9/FeatureServer/1/query?f=json&where=OBJECTID%3E187&returnGeometry=false&spatialRel=esriSpatialRelIntersects&outFields=*&outSR=102100&resultOffset=0&resultRecordCount=4000&resultType=standard&cacheHint=true'\n",
    "r = http.request('GET', url)\n",
    "r.status"
   ]
  },
  {
   "cell_type": "code",
   "execution_count": 14,
   "metadata": {
    "collapsed": true
   },
   "outputs": [],
   "source": [
    "from pandas.io.json import json_normalize"
   ]
  },
  {
   "cell_type": "code",
   "execution_count": 22,
   "metadata": {},
   "outputs": [
    {
     "data": {
      "text/plain": [
       "{'features': [{'attributes': {'ACTIVE': 125,\n",
       "    'CONFIRMED': 2470,\n",
       "    'DATE': 'OCT27',\n",
       "    'OBJECTID': 188,\n",
       "    'RECOVERED': 2229,\n",
       "    'Shape__Area': 714926133.740173,\n",
       "    'Shape__Length': 171664.844393866}},\n",
       "  {'attributes': {'ACTIVE': 126,\n",
       "    'CONFIRMED': 2484,\n",
       "    'DATE': 'OCT28',\n",
       "    'OBJECTID': 189,\n",
       "    'RECOVERED': 2242,\n",
       "    'Shape__Area': 714926133.740173,\n",
       "    'Shape__Length': 171664.844393866}},\n",
       "  {'attributes': {'ACTIVE': 137,\n",
       "    'CONFIRMED': 2507,\n",
       "    'DATE': 'OCT29',\n",
       "    'OBJECTID': 190,\n",
       "    'RECOVERED': 2254,\n",
       "    'Shape__Area': 714926133.740173,\n",
       "    'Shape__Length': 171664.844393866}},\n",
       "  {'attributes': {'ACTIVE': 157,\n",
       "    'CONFIRMED': 2545,\n",
       "    'DATE': 'OCT30',\n",
       "    'OBJECTID': 191,\n",
       "    'RECOVERED': 2272,\n",
       "    'Shape__Area': 714926133.740173,\n",
       "    'Shape__Length': 171664.844393866}},\n",
       "  {'attributes': {'ACTIVE': 158,\n",
       "    'CONFIRMED': 2573,\n",
       "    'DATE': 'OCT31',\n",
       "    'OBJECTID': 192,\n",
       "    'RECOVERED': 2299,\n",
       "    'Shape__Area': 714926133.740173,\n",
       "    'Shape__Length': 171664.844393866}},\n",
       "  {'attributes': {'ACTIVE': 183,\n",
       "    'CONFIRMED': 2598,\n",
       "    'DATE': 'NOV1',\n",
       "    'OBJECTID': 193,\n",
       "    'RECOVERED': 2299,\n",
       "    'Shape__Area': 714926133.740173,\n",
       "    'Shape__Length': 171664.844393866}},\n",
       "  {'attributes': {'ACTIVE': 178,\n",
       "    'CONFIRMED': 2615,\n",
       "    'DATE': 'NOV2',\n",
       "    'OBJECTID': 194,\n",
       "    'RECOVERED': 2321,\n",
       "    'Shape__Area': 714926133.740173,\n",
       "    'Shape__Length': 171664.844393866}},\n",
       "  {'attributes': {'ACTIVE': 166,\n",
       "    'CONFIRMED': 2627,\n",
       "    'DATE': 'NOV3',\n",
       "    'OBJECTID': 195,\n",
       "    'RECOVERED': 2345,\n",
       "    'Shape__Area': 714926133.740173,\n",
       "    'Shape__Length': 171664.844393866}},\n",
       "  {'attributes': {'ACTIVE': 188,\n",
       "    'CONFIRMED': 2652,\n",
       "    'DATE': 'NOV4',\n",
       "    'OBJECTID': 196,\n",
       "    'RECOVERED': 2348,\n",
       "    'Shape__Area': 714926133.740173,\n",
       "    'Shape__Length': 171664.844393866}},\n",
       "  {'attributes': {'ACTIVE': 213,\n",
       "    'CONFIRMED': 2696,\n",
       "    'DATE': 'NOV5',\n",
       "    'OBJECTID': 197,\n",
       "    'RECOVERED': 2367,\n",
       "    'Shape__Area': 714926133.740173,\n",
       "    'Shape__Length': 171664.844393866}},\n",
       "  {'attributes': {'ACTIVE': 267,\n",
       "    'CONFIRMED': 2763,\n",
       "    'DATE': 'NOV6',\n",
       "    'OBJECTID': 198,\n",
       "    'RECOVERED': 2380,\n",
       "    'Shape__Area': 714926133.740173,\n",
       "    'Shape__Length': 171664.844393866}},\n",
       "  {'attributes': {'ACTIVE': 265,\n",
       "    'CONFIRMED': 2795,\n",
       "    'DATE': 'NOV7',\n",
       "    'OBJECTID': 199,\n",
       "    'RECOVERED': 2414,\n",
       "    'Shape__Area': 714926133.740173,\n",
       "    'Shape__Length': 171664.844393866}},\n",
       "  {'attributes': {'ACTIVE': 306,\n",
       "    'CONFIRMED': 2836,\n",
       "    'DATE': 'NOV8',\n",
       "    'OBJECTID': 200,\n",
       "    'RECOVERED': 2414,\n",
       "    'Shape__Area': 714926133.740173,\n",
       "    'Shape__Length': 171664.844393866}},\n",
       "  {'attributes': {'ACTIVE': 316,\n",
       "    'CONFIRMED': 2876,\n",
       "    'DATE': 'NOV9',\n",
       "    'OBJECTID': 201,\n",
       "    'RECOVERED': 2443,\n",
       "    'Shape__Area': 714926133.740173,\n",
       "    'Shape__Length': 171664.844393866}}],\n",
       " 'fields': [{'alias': 'OBJECTID',\n",
       "   'defaultValue': None,\n",
       "   'domain': None,\n",
       "   'name': 'OBJECTID',\n",
       "   'sqlType': 'sqlTypeOther',\n",
       "   'type': 'esriFieldTypeOID'},\n",
       "  {'alias': 'DATE',\n",
       "   'defaultValue': None,\n",
       "   'domain': None,\n",
       "   'length': 10,\n",
       "   'name': 'DATE',\n",
       "   'sqlType': 'sqlTypeOther',\n",
       "   'type': 'esriFieldTypeString'},\n",
       "  {'alias': 'CONFIRMED',\n",
       "   'defaultValue': None,\n",
       "   'domain': None,\n",
       "   'name': 'CONFIRMED',\n",
       "   'sqlType': 'sqlTypeOther',\n",
       "   'type': 'esriFieldTypeSmallInteger'},\n",
       "  {'alias': 'ACTIVE',\n",
       "   'defaultValue': None,\n",
       "   'domain': None,\n",
       "   'name': 'ACTIVE',\n",
       "   'sqlType': 'sqlTypeOther',\n",
       "   'type': 'esriFieldTypeSmallInteger'},\n",
       "  {'alias': 'RECOVERED',\n",
       "   'defaultValue': None,\n",
       "   'domain': None,\n",
       "   'name': 'RECOVERED',\n",
       "   'sqlType': 'sqlTypeOther',\n",
       "   'type': 'esriFieldTypeSmallInteger'},\n",
       "  {'alias': 'Shape__Area',\n",
       "   'defaultValue': None,\n",
       "   'domain': None,\n",
       "   'name': 'Shape__Area',\n",
       "   'sqlType': 'sqlTypeDouble',\n",
       "   'type': 'esriFieldTypeDouble'},\n",
       "  {'alias': 'Shape__Length',\n",
       "   'defaultValue': None,\n",
       "   'domain': None,\n",
       "   'name': 'Shape__Length',\n",
       "   'sqlType': 'sqlTypeDouble',\n",
       "   'type': 'esriFieldTypeDouble'}],\n",
       " 'geometryProperties': {'shapeAreaFieldName': 'Shape__Area',\n",
       "  'shapeLengthFieldName': 'Shape__Length',\n",
       "  'units': 'esriFeet'},\n",
       " 'geometryType': 'esriGeometryPolygon',\n",
       " 'globalIdFieldName': '',\n",
       " 'objectIdFieldName': 'OBJECTID',\n",
       " 'spatialReference': {'latestWkid': 3857, 'wkid': 102100},\n",
       " 'uniqueIdField': {'isSystemMaintained': True, 'name': 'OBJECTID'}}"
      ]
     },
     "execution_count": 22,
     "metadata": {},
     "output_type": "execute_result"
    }
   ],
   "source": [
    "json.loads(r.data.decode('utf-8'))"
   ]
  },
  {
   "cell_type": "code",
   "execution_count": null,
   "metadata": {
    "collapsed": true
   },
   "outputs": [],
   "source": []
  }
 ],
 "metadata": {
  "kernelspec": {
   "display_name": "Python 3",
   "language": "python",
   "name": "python3"
  },
  "language_info": {
   "codemirror_mode": {
    "name": "ipython",
    "version": 3
   },
   "file_extension": ".py",
   "mimetype": "text/x-python",
   "name": "python",
   "nbconvert_exporter": "python",
   "pygments_lexer": "ipython3",
   "version": "3.6.2"
  }
 },
 "nbformat": 4,
 "nbformat_minor": 2
}
